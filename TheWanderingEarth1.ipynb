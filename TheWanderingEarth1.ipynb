{
 "cells": [
  {
   "cell_type": "markdown",
   "metadata": {
    "slideshow": {
     "slide_type": "slide"
    }
   },
   "source": [
    "<center><h1>电影《流浪地球》的观众评价的数据分析</h1></center> "
   ]
  },
  {
   "cell_type": "markdown",
   "metadata": {
    "slideshow": {
     "slide_type": "slide"
    }
   },
   "source": [
    "<h2>1.分析目标</h2>\n",
    "\n",
    "1.电影流浪地球中的各评分数量\n",
    "\n",
    "2.高低分跟那些演员有关\n",
    " \n"
   ]
  },
  {
   "cell_type": "markdown",
   "metadata": {
    "slideshow": {
     "slide_type": "slide"
    }
   },
   "source": [
    "<h2>2.分析内容</h2>\n",
    "\n",
    "文件（data.csv）中包含“content”，“gender”，“id”，“nick”，“replyCount”，“score”，“time”等信息。首先读取全部信息去重；然后提前需要\n",
    "的信息并进行去空处理；接着对提取的干净信息进行统计分析；最后生成相应的图。"
   ]
  },
  {
   "cell_type": "markdown",
   "metadata": {
    "slideshow": {
     "slide_type": "slide"
    }
   },
   "source": [
    "<h2>3.分析步骤</h2>"
   ]
  },
  {
   "cell_type": "markdown",
   "metadata": {
    "slideshow": {
     "slide_type": "subslide"
    }
   },
   "source": [
    "   <h3>3.1 csv文件信息读取</h3>\n",
    "读取文件信息并去重，保存成DataFrame格式；"
   ]
  },
  {
   "cell_type": "code",
   "execution_count": null,
   "metadata": {
    "slideshow": {
     "slide_type": "subslide"
    }
   },
   "outputs": [],
   "source": [
    "import pandas as pd\n",
    "import numpy as np\n",
    "import matplotlib.pyplot as plt\n",
    "import matplotlib as mpl\n",
    "%matplotlib inline\n",
    "\n",
    "#设置中文标签的显示\n",
    "plt.rcParams['font.sans-serif'] = ['SimHei']  #设置显示中文字体"
   ]
  },
  {
   "cell_type": "code",
   "execution_count": 170,
   "metadata": {
    "slideshow": {
     "slide_type": "subslide"
    }
   },
   "outputs": [
    {
     "data": {
      "text/html": [
       "<div>\n",
       "<style scoped>\n",
       "    .dataframe tbody tr th:only-of-type {\n",
       "        vertical-align: middle;\n",
       "    }\n",
       "\n",
       "    .dataframe tbody tr th {\n",
       "        vertical-align: top;\n",
       "    }\n",
       "\n",
       "    .dataframe thead th {\n",
       "        text-align: right;\n",
       "    }\n",
       "</style>\n",
       "<table border=\"1\" class=\"dataframe\">\n",
       "  <thead>\n",
       "    <tr style=\"text-align: right;\">\n",
       "      <th></th>\n",
       "      <th>content</th>\n",
       "      <th>gender</th>\n",
       "      <th>id</th>\n",
       "      <th>nick</th>\n",
       "      <th>replyCount</th>\n",
       "      <th>score</th>\n",
       "      <th>time</th>\n",
       "      <th>upCount</th>\n",
       "      <th>userId</th>\n",
       "      <th>userLevel</th>\n",
       "    </tr>\n",
       "  </thead>\n",
       "  <tbody>\n",
       "    <tr>\n",
       "      <th>0</th>\n",
       "      <td>很好震撼的很啊</td>\n",
       "      <td>1.0</td>\n",
       "      <td>1.056560e+09</td>\n",
       "      <td>江生</td>\n",
       "      <td>0.0</td>\n",
       "      <td>9.0</td>\n",
       "      <td>2019-02-11 10:10:00</td>\n",
       "      <td>0.0</td>\n",
       "      <td>2.016950e+08</td>\n",
       "      <td>3.0</td>\n",
       "    </tr>\n",
       "    <tr>\n",
       "      <th>1</th>\n",
       "      <td>国产的科幻巅峰，丝毫不逊色好莱坞科幻大片，影响力就像星球大战一样，是国产科幻的开山之做，希望...</td>\n",
       "      <td>0.0</td>\n",
       "      <td>1.056560e+09</td>\n",
       "      <td>Decadence</td>\n",
       "      <td>0.0</td>\n",
       "      <td>10.0</td>\n",
       "      <td>2019-02-11 10:10:00</td>\n",
       "      <td>0.0</td>\n",
       "      <td>1.020876e+09</td>\n",
       "      <td>4.0</td>\n",
       "    </tr>\n",
       "    <tr>\n",
       "      <th>2</th>\n",
       "      <td>超级好看啊 户口帅的一批 我自己一个人看的 看得热血沸腾啊 爷爷死的时候真的哭死了</td>\n",
       "      <td>2.0</td>\n",
       "      <td>1.056558e+09</td>\n",
       "      <td>暴走萝莉912</td>\n",
       "      <td>0.0</td>\n",
       "      <td>10.0</td>\n",
       "      <td>2019-02-11 10:10:00</td>\n",
       "      <td>0.0</td>\n",
       "      <td>3.042996e+08</td>\n",
       "      <td>3.0</td>\n",
       "    </tr>\n",
       "    <tr>\n",
       "      <th>3</th>\n",
       "      <td>保护生态环境，从我做</td>\n",
       "      <td>1.0</td>\n",
       "      <td>1.056558e+09</td>\n",
       "      <td>*^_^*红尘逍遥</td>\n",
       "      <td>0.0</td>\n",
       "      <td>10.0</td>\n",
       "      <td>2019-02-11 10:10:00</td>\n",
       "      <td>0.0</td>\n",
       "      <td>1.548123e+09</td>\n",
       "      <td>2.0</td>\n",
       "    </tr>\n",
       "    <tr>\n",
       "      <th>4</th>\n",
       "      <td>超级好看，感动，特效好哒</td>\n",
       "      <td>2.0</td>\n",
       "      <td>1.056560e+09</td>\n",
       "      <td>罗大大</td>\n",
       "      <td>0.0</td>\n",
       "      <td>9.0</td>\n",
       "      <td>2019-02-11 10:10:00</td>\n",
       "      <td>0.0</td>\n",
       "      <td>8.973641e+08</td>\n",
       "      <td>2.0</td>\n",
       "    </tr>\n",
       "    <tr>\n",
       "      <th>...</th>\n",
       "      <td>...</td>\n",
       "      <td>...</td>\n",
       "      <td>...</td>\n",
       "      <td>...</td>\n",
       "      <td>...</td>\n",
       "      <td>...</td>\n",
       "      <td>...</td>\n",
       "      <td>...</td>\n",
       "      <td>...</td>\n",
       "      <td>...</td>\n",
       "    </tr>\n",
       "    <tr>\n",
       "      <th>102579</th>\n",
       "      <td>终于明白什么叫饱和式救援\\n人类命运共同体选择了希望\\n不管走多远，也要带着哪怕是残破的家\\n</td>\n",
       "      <td>1.0</td>\n",
       "      <td>1.054669e+09</td>\n",
       "      <td>ficeray</td>\n",
       "      <td>0.0</td>\n",
       "      <td>10.0</td>\n",
       "      <td>2019-02-11 01:40:00</td>\n",
       "      <td>0.0</td>\n",
       "      <td>2.455027e+09</td>\n",
       "      <td>1.0</td>\n",
       "    </tr>\n",
       "    <tr>\n",
       "      <th>102580</th>\n",
       "      <td>很不错，推荐大家看。</td>\n",
       "      <td>1.0</td>\n",
       "      <td>1.054664e+09</td>\n",
       "      <td>愛•菩提•翡翠</td>\n",
       "      <td>0.0</td>\n",
       "      <td>10.0</td>\n",
       "      <td>2019-02-11 01:40:00</td>\n",
       "      <td>0.0</td>\n",
       "      <td>2.297931e+09</td>\n",
       "      <td>1.0</td>\n",
       "    </tr>\n",
       "    <tr>\n",
       "      <th>102581</th>\n",
       "      <td>堪比好莱坞大片，震撼</td>\n",
       "      <td>1.0</td>\n",
       "      <td>1.054661e+09</td>\n",
       "      <td>Zz</td>\n",
       "      <td>0.0</td>\n",
       "      <td>10.0</td>\n",
       "      <td>2019-02-11 01:40:00</td>\n",
       "      <td>0.0</td>\n",
       "      <td>2.223646e+09</td>\n",
       "      <td>2.0</td>\n",
       "    </tr>\n",
       "    <tr>\n",
       "      <th>102582</th>\n",
       "      <td>非常好看 震撼人心</td>\n",
       "      <td>1.0</td>\n",
       "      <td>1.054669e+09</td>\n",
       "      <td>十八。</td>\n",
       "      <td>0.0</td>\n",
       "      <td>10.0</td>\n",
       "      <td>2019-02-11 01:40:00</td>\n",
       "      <td>0.0</td>\n",
       "      <td>2.458246e+09</td>\n",
       "      <td>1.0</td>\n",
       "    </tr>\n",
       "    <tr>\n",
       "      <th>102583</th>\n",
       "      <td>我觉得这部影片可以说很棒了。特效很不错，剧情也ok(结尾主人公竟然没死emmm)。爷爷死的那...</td>\n",
       "      <td>0.0</td>\n",
       "      <td>1.054656e+09</td>\n",
       "      <td>你的小可爱！</td>\n",
       "      <td>0.0</td>\n",
       "      <td>9.0</td>\n",
       "      <td>2019-02-11 01:40:00</td>\n",
       "      <td>2.0</td>\n",
       "      <td>1.920836e+09</td>\n",
       "      <td>2.0</td>\n",
       "    </tr>\n",
       "  </tbody>\n",
       "</table>\n",
       "<p>102584 rows × 10 columns</p>\n",
       "</div>"
      ],
      "text/plain": [
       "                                                  content  gender  \\\n",
       "0                                                 很好震撼的很啊     1.0   \n",
       "1       国产的科幻巅峰，丝毫不逊色好莱坞科幻大片，影响力就像星球大战一样，是国产科幻的开山之做，希望...     0.0   \n",
       "2               超级好看啊 户口帅的一批 我自己一个人看的 看得热血沸腾啊 爷爷死的时候真的哭死了     2.0   \n",
       "3                                              保护生态环境，从我做     1.0   \n",
       "4                                            超级好看，感动，特效好哒     2.0   \n",
       "...                                                   ...     ...   \n",
       "102579    终于明白什么叫饱和式救援\\n人类命运共同体选择了希望\\n不管走多远，也要带着哪怕是残破的家\\n     1.0   \n",
       "102580                                         很不错，推荐大家看。     1.0   \n",
       "102581                                         堪比好莱坞大片，震撼     1.0   \n",
       "102582                                          非常好看 震撼人心     1.0   \n",
       "102583  我觉得这部影片可以说很棒了。特效很不错，剧情也ok(结尾主人公竟然没死emmm)。爷爷死的那...     0.0   \n",
       "\n",
       "                  id       nick  replyCount  score                 time  \\\n",
       "0       1.056560e+09         江生         0.0    9.0  2019-02-11 10:10:00   \n",
       "1       1.056560e+09  Decadence         0.0   10.0  2019-02-11 10:10:00   \n",
       "2       1.056558e+09    暴走萝莉912         0.0   10.0  2019-02-11 10:10:00   \n",
       "3       1.056558e+09  *^_^*红尘逍遥         0.0   10.0  2019-02-11 10:10:00   \n",
       "4       1.056560e+09        罗大大         0.0    9.0  2019-02-11 10:10:00   \n",
       "...              ...        ...         ...    ...                  ...   \n",
       "102579  1.054669e+09    ficeray         0.0   10.0  2019-02-11 01:40:00   \n",
       "102580  1.054664e+09    愛•菩提•翡翠         0.0   10.0  2019-02-11 01:40:00   \n",
       "102581  1.054661e+09         Zz         0.0   10.0  2019-02-11 01:40:00   \n",
       "102582  1.054669e+09        十八。         0.0   10.0  2019-02-11 01:40:00   \n",
       "102583  1.054656e+09     你的小可爱！         0.0    9.0  2019-02-11 01:40:00   \n",
       "\n",
       "        upCount        userId  userLevel  \n",
       "0           0.0  2.016950e+08        3.0  \n",
       "1           0.0  1.020876e+09        4.0  \n",
       "2           0.0  3.042996e+08        3.0  \n",
       "3           0.0  1.548123e+09        2.0  \n",
       "4           0.0  8.973641e+08        2.0  \n",
       "...         ...           ...        ...  \n",
       "102579      0.0  2.455027e+09        1.0  \n",
       "102580      0.0  2.297931e+09        1.0  \n",
       "102581      0.0  2.223646e+09        2.0  \n",
       "102582      0.0  2.458246e+09        1.0  \n",
       "102583      2.0  1.920836e+09        2.0  \n",
       "\n",
       "[102584 rows x 10 columns]"
      ]
     },
     "execution_count": 170,
     "metadata": {},
     "output_type": "execute_result"
    }
   ],
   "source": [
    "#读取csv中的数据，以“;”作为分隔符来添加字段名\n",
    "film_data = pd.read_csv('data.csv', delimiter=',', encoding='utf8')\n",
    "film_data"
   ]
  },
  {
   "cell_type": "markdown",
   "metadata": {
    "slideshow": {
     "slide_type": "slide"
    }
   },
   "source": [
    "<h3>3.2 数据清洗</h3>\n",
    "提取信息并进行去空、规范化处理"
   ]
  },
  {
   "cell_type": "code",
   "execution_count": 4,
   "metadata": {
    "slideshow": {
     "slide_type": "subslide"
    }
   },
   "outputs": [
    {
     "data": {
      "text/html": [
       "<div>\n",
       "<style scoped>\n",
       "    .dataframe tbody tr th:only-of-type {\n",
       "        vertical-align: middle;\n",
       "    }\n",
       "\n",
       "    .dataframe tbody tr th {\n",
       "        vertical-align: top;\n",
       "    }\n",
       "\n",
       "    .dataframe thead th {\n",
       "        text-align: right;\n",
       "    }\n",
       "</style>\n",
       "<table border=\"1\" class=\"dataframe\">\n",
       "  <thead>\n",
       "    <tr style=\"text-align: right;\">\n",
       "      <th></th>\n",
       "      <th>content</th>\n",
       "      <th>score</th>\n",
       "      <th>time</th>\n",
       "    </tr>\n",
       "  </thead>\n",
       "  <tbody>\n",
       "    <tr>\n",
       "      <th>0</th>\n",
       "      <td>很好震撼的很啊</td>\n",
       "      <td>9.0</td>\n",
       "      <td>2019-02-11 10:10:00</td>\n",
       "    </tr>\n",
       "    <tr>\n",
       "      <th>1</th>\n",
       "      <td>国产的科幻巅峰，丝毫不逊色好莱坞科幻大片，影响力就像星球大战一样，是国产科幻的开山之做，希望...</td>\n",
       "      <td>10.0</td>\n",
       "      <td>2019-02-11 10:10:00</td>\n",
       "    </tr>\n",
       "    <tr>\n",
       "      <th>2</th>\n",
       "      <td>超级好看啊 户口帅的一批 我自己一个人看的 看得热血沸腾啊 爷爷死的时候真的哭死了</td>\n",
       "      <td>10.0</td>\n",
       "      <td>2019-02-11 10:10:00</td>\n",
       "    </tr>\n",
       "    <tr>\n",
       "      <th>3</th>\n",
       "      <td>保护生态环境，从我做</td>\n",
       "      <td>10.0</td>\n",
       "      <td>2019-02-11 10:10:00</td>\n",
       "    </tr>\n",
       "    <tr>\n",
       "      <th>4</th>\n",
       "      <td>超级好看，感动，特效好哒</td>\n",
       "      <td>9.0</td>\n",
       "      <td>2019-02-11 10:10:00</td>\n",
       "    </tr>\n",
       "  </tbody>\n",
       "</table>\n",
       "</div>"
      ],
      "text/plain": [
       "                                             content  score  \\\n",
       "0                                            很好震撼的很啊    9.0   \n",
       "1  国产的科幻巅峰，丝毫不逊色好莱坞科幻大片，影响力就像星球大战一样，是国产科幻的开山之做，希望...   10.0   \n",
       "2          超级好看啊 户口帅的一批 我自己一个人看的 看得热血沸腾啊 爷爷死的时候真的哭死了   10.0   \n",
       "3                                         保护生态环境，从我做   10.0   \n",
       "4                                       超级好看，感动，特效好哒    9.0   \n",
       "\n",
       "                  time  \n",
       "0  2019-02-11 10:10:00  \n",
       "1  2019-02-11 10:10:00  \n",
       "2  2019-02-11 10:10:00  \n",
       "3  2019-02-11 10:10:00  \n",
       "4  2019-02-11 10:10:00  "
      ]
     },
     "execution_count": 4,
     "metadata": {},
     "output_type": "execute_result"
    }
   ],
   "source": [
    "#提取有效的列\n",
    "dyxx = film_data.loc[:,['content','score','time']]\n",
    "dyxx.head()"
   ]
  },
  {
   "cell_type": "code",
   "execution_count": 5,
   "metadata": {
    "slideshow": {
     "slide_type": "subslide"
    }
   },
   "outputs": [
    {
     "name": "stdout",
     "output_type": "stream",
     "text": [
      "原始数据行数： 102584\n"
     ]
    }
   ],
   "source": [
    "#输出初始行数，通过比较理解去重操作\n",
    "print('原始数据行数：', len(film_data))"
   ]
  },
  {
   "cell_type": "code",
   "execution_count": 8,
   "metadata": {
    "slideshow": {
     "slide_type": "subslide"
    }
   },
   "outputs": [
    {
     "name": "stdout",
     "output_type": "stream",
     "text": [
      "去重后数据行数： 102584\n"
     ]
    },
    {
     "data": {
      "text/html": [
       "<div>\n",
       "<style scoped>\n",
       "    .dataframe tbody tr th:only-of-type {\n",
       "        vertical-align: middle;\n",
       "    }\n",
       "\n",
       "    .dataframe tbody tr th {\n",
       "        vertical-align: top;\n",
       "    }\n",
       "\n",
       "    .dataframe thead th {\n",
       "        text-align: right;\n",
       "    }\n",
       "</style>\n",
       "<table border=\"1\" class=\"dataframe\">\n",
       "  <thead>\n",
       "    <tr style=\"text-align: right;\">\n",
       "      <th></th>\n",
       "      <th>content</th>\n",
       "      <th>gender</th>\n",
       "      <th>id</th>\n",
       "      <th>nick</th>\n",
       "      <th>replyCount</th>\n",
       "      <th>score</th>\n",
       "      <th>time</th>\n",
       "      <th>upCount</th>\n",
       "      <th>userId</th>\n",
       "      <th>userLevel</th>\n",
       "    </tr>\n",
       "  </thead>\n",
       "  <tbody>\n",
       "    <tr>\n",
       "      <th>0</th>\n",
       "      <td>很好震撼的很啊</td>\n",
       "      <td>1.0</td>\n",
       "      <td>1.056560e+09</td>\n",
       "      <td>江生</td>\n",
       "      <td>0.0</td>\n",
       "      <td>9.0</td>\n",
       "      <td>2019-02-11 10:10:00</td>\n",
       "      <td>0.0</td>\n",
       "      <td>2.016950e+08</td>\n",
       "      <td>3.0</td>\n",
       "    </tr>\n",
       "    <tr>\n",
       "      <th>1</th>\n",
       "      <td>国产的科幻巅峰，丝毫不逊色好莱坞科幻大片，影响力就像星球大战一样，是国产科幻的开山之做，希望...</td>\n",
       "      <td>0.0</td>\n",
       "      <td>1.056560e+09</td>\n",
       "      <td>Decadence</td>\n",
       "      <td>0.0</td>\n",
       "      <td>10.0</td>\n",
       "      <td>2019-02-11 10:10:00</td>\n",
       "      <td>0.0</td>\n",
       "      <td>1.020876e+09</td>\n",
       "      <td>4.0</td>\n",
       "    </tr>\n",
       "    <tr>\n",
       "      <th>2</th>\n",
       "      <td>超级好看啊 户口帅的一批 我自己一个人看的 看得热血沸腾啊 爷爷死的时候真的哭死了</td>\n",
       "      <td>2.0</td>\n",
       "      <td>1.056558e+09</td>\n",
       "      <td>暴走萝莉912</td>\n",
       "      <td>0.0</td>\n",
       "      <td>10.0</td>\n",
       "      <td>2019-02-11 10:10:00</td>\n",
       "      <td>0.0</td>\n",
       "      <td>3.042996e+08</td>\n",
       "      <td>3.0</td>\n",
       "    </tr>\n",
       "    <tr>\n",
       "      <th>3</th>\n",
       "      <td>保护生态环境，从我做</td>\n",
       "      <td>1.0</td>\n",
       "      <td>1.056558e+09</td>\n",
       "      <td>*^_^*红尘逍遥</td>\n",
       "      <td>0.0</td>\n",
       "      <td>10.0</td>\n",
       "      <td>2019-02-11 10:10:00</td>\n",
       "      <td>0.0</td>\n",
       "      <td>1.548123e+09</td>\n",
       "      <td>2.0</td>\n",
       "    </tr>\n",
       "    <tr>\n",
       "      <th>4</th>\n",
       "      <td>超级好看，感动，特效好哒</td>\n",
       "      <td>2.0</td>\n",
       "      <td>1.056560e+09</td>\n",
       "      <td>罗大大</td>\n",
       "      <td>0.0</td>\n",
       "      <td>9.0</td>\n",
       "      <td>2019-02-11 10:10:00</td>\n",
       "      <td>0.0</td>\n",
       "      <td>8.973641e+08</td>\n",
       "      <td>2.0</td>\n",
       "    </tr>\n",
       "    <tr>\n",
       "      <th>...</th>\n",
       "      <td>...</td>\n",
       "      <td>...</td>\n",
       "      <td>...</td>\n",
       "      <td>...</td>\n",
       "      <td>...</td>\n",
       "      <td>...</td>\n",
       "      <td>...</td>\n",
       "      <td>...</td>\n",
       "      <td>...</td>\n",
       "      <td>...</td>\n",
       "    </tr>\n",
       "    <tr>\n",
       "      <th>102579</th>\n",
       "      <td>终于明白什么叫饱和式救援\\n人类命运共同体选择了希望\\n不管走多远，也要带着哪怕是残破的家\\n</td>\n",
       "      <td>1.0</td>\n",
       "      <td>1.054669e+09</td>\n",
       "      <td>ficeray</td>\n",
       "      <td>0.0</td>\n",
       "      <td>10.0</td>\n",
       "      <td>2019-02-11 01:40:00</td>\n",
       "      <td>0.0</td>\n",
       "      <td>2.455027e+09</td>\n",
       "      <td>1.0</td>\n",
       "    </tr>\n",
       "    <tr>\n",
       "      <th>102580</th>\n",
       "      <td>很不错，推荐大家看。</td>\n",
       "      <td>1.0</td>\n",
       "      <td>1.054664e+09</td>\n",
       "      <td>愛•菩提•翡翠</td>\n",
       "      <td>0.0</td>\n",
       "      <td>10.0</td>\n",
       "      <td>2019-02-11 01:40:00</td>\n",
       "      <td>0.0</td>\n",
       "      <td>2.297931e+09</td>\n",
       "      <td>1.0</td>\n",
       "    </tr>\n",
       "    <tr>\n",
       "      <th>102581</th>\n",
       "      <td>堪比好莱坞大片，震撼</td>\n",
       "      <td>1.0</td>\n",
       "      <td>1.054661e+09</td>\n",
       "      <td>Zz</td>\n",
       "      <td>0.0</td>\n",
       "      <td>10.0</td>\n",
       "      <td>2019-02-11 01:40:00</td>\n",
       "      <td>0.0</td>\n",
       "      <td>2.223646e+09</td>\n",
       "      <td>2.0</td>\n",
       "    </tr>\n",
       "    <tr>\n",
       "      <th>102582</th>\n",
       "      <td>非常好看 震撼人心</td>\n",
       "      <td>1.0</td>\n",
       "      <td>1.054669e+09</td>\n",
       "      <td>十八。</td>\n",
       "      <td>0.0</td>\n",
       "      <td>10.0</td>\n",
       "      <td>2019-02-11 01:40:00</td>\n",
       "      <td>0.0</td>\n",
       "      <td>2.458246e+09</td>\n",
       "      <td>1.0</td>\n",
       "    </tr>\n",
       "    <tr>\n",
       "      <th>102583</th>\n",
       "      <td>我觉得这部影片可以说很棒了。特效很不错，剧情也ok(结尾主人公竟然没死emmm)。爷爷死的那...</td>\n",
       "      <td>0.0</td>\n",
       "      <td>1.054656e+09</td>\n",
       "      <td>你的小可爱！</td>\n",
       "      <td>0.0</td>\n",
       "      <td>9.0</td>\n",
       "      <td>2019-02-11 01:40:00</td>\n",
       "      <td>2.0</td>\n",
       "      <td>1.920836e+09</td>\n",
       "      <td>2.0</td>\n",
       "    </tr>\n",
       "  </tbody>\n",
       "</table>\n",
       "<p>102584 rows × 10 columns</p>\n",
       "</div>"
      ],
      "text/plain": [
       "                                                  content  gender  \\\n",
       "0                                                 很好震撼的很啊     1.0   \n",
       "1       国产的科幻巅峰，丝毫不逊色好莱坞科幻大片，影响力就像星球大战一样，是国产科幻的开山之做，希望...     0.0   \n",
       "2               超级好看啊 户口帅的一批 我自己一个人看的 看得热血沸腾啊 爷爷死的时候真的哭死了     2.0   \n",
       "3                                              保护生态环境，从我做     1.0   \n",
       "4                                            超级好看，感动，特效好哒     2.0   \n",
       "...                                                   ...     ...   \n",
       "102579    终于明白什么叫饱和式救援\\n人类命运共同体选择了希望\\n不管走多远，也要带着哪怕是残破的家\\n     1.0   \n",
       "102580                                         很不错，推荐大家看。     1.0   \n",
       "102581                                         堪比好莱坞大片，震撼     1.0   \n",
       "102582                                          非常好看 震撼人心     1.0   \n",
       "102583  我觉得这部影片可以说很棒了。特效很不错，剧情也ok(结尾主人公竟然没死emmm)。爷爷死的那...     0.0   \n",
       "\n",
       "                  id       nick  replyCount  score                 time  \\\n",
       "0       1.056560e+09         江生         0.0    9.0  2019-02-11 10:10:00   \n",
       "1       1.056560e+09  Decadence         0.0   10.0  2019-02-11 10:10:00   \n",
       "2       1.056558e+09    暴走萝莉912         0.0   10.0  2019-02-11 10:10:00   \n",
       "3       1.056558e+09  *^_^*红尘逍遥         0.0   10.0  2019-02-11 10:10:00   \n",
       "4       1.056560e+09        罗大大         0.0    9.0  2019-02-11 10:10:00   \n",
       "...              ...        ...         ...    ...                  ...   \n",
       "102579  1.054669e+09    ficeray         0.0   10.0  2019-02-11 01:40:00   \n",
       "102580  1.054664e+09    愛•菩提•翡翠         0.0   10.0  2019-02-11 01:40:00   \n",
       "102581  1.054661e+09         Zz         0.0   10.0  2019-02-11 01:40:00   \n",
       "102582  1.054669e+09        十八。         0.0   10.0  2019-02-11 01:40:00   \n",
       "102583  1.054656e+09     你的小可爱！         0.0    9.0  2019-02-11 01:40:00   \n",
       "\n",
       "        upCount        userId  userLevel  \n",
       "0           0.0  2.016950e+08        3.0  \n",
       "1           0.0  1.020876e+09        4.0  \n",
       "2           0.0  3.042996e+08        3.0  \n",
       "3           0.0  1.548123e+09        2.0  \n",
       "4           0.0  8.973641e+08        2.0  \n",
       "...         ...           ...        ...  \n",
       "102579      0.0  2.455027e+09        1.0  \n",
       "102580      0.0  2.297931e+09        1.0  \n",
       "102581      0.0  2.223646e+09        2.0  \n",
       "102582      0.0  2.458246e+09        1.0  \n",
       "102583      2.0  1.920836e+09        2.0  \n",
       "\n",
       "[102584 rows x 10 columns]"
      ]
     },
     "execution_count": 8,
     "metadata": {},
     "output_type": "execute_result"
    }
   ],
   "source": [
    "#去重\n",
    "# film_data = film_data.drop_duplicates()\n",
    "film_data = film_data.drop_duplicates().reset_index().drop('index',axis=1)\n",
    "\n",
    "#输出去重后的行数\n",
    "print('去重后数据行数：', len(film_data))\n",
    "\n",
    "#查看去重后的数据\n",
    "film_data"
   ]
  },
  {
   "cell_type": "code",
   "execution_count": 69,
   "metadata": {
    "scrolled": true,
    "slideshow": {
     "slide_type": "subslide"
    }
   },
   "outputs": [
    {
     "data": {
      "text/html": [
       "<div>\n",
       "<style scoped>\n",
       "    .dataframe tbody tr th:only-of-type {\n",
       "        vertical-align: middle;\n",
       "    }\n",
       "\n",
       "    .dataframe tbody tr th {\n",
       "        vertical-align: top;\n",
       "    }\n",
       "\n",
       "    .dataframe thead th {\n",
       "        text-align: right;\n",
       "    }\n",
       "</style>\n",
       "<table border=\"1\" class=\"dataframe\">\n",
       "  <thead>\n",
       "    <tr style=\"text-align: right;\">\n",
       "      <th></th>\n",
       "      <th>content</th>\n",
       "      <th>score</th>\n",
       "      <th>time</th>\n",
       "    </tr>\n",
       "  </thead>\n",
       "  <tbody>\n",
       "    <tr>\n",
       "      <th>0</th>\n",
       "      <td>很好震撼的很啊</td>\n",
       "      <td>9.0</td>\n",
       "      <td>2019-02-11 10:10:00</td>\n",
       "    </tr>\n",
       "    <tr>\n",
       "      <th>1</th>\n",
       "      <td>国产的科幻巅峰，丝毫不逊色好莱坞科幻大片，影响力就像星球大战一样，是国产科幻的开山之做，希望...</td>\n",
       "      <td>10.0</td>\n",
       "      <td>2019-02-11 10:10:00</td>\n",
       "    </tr>\n",
       "    <tr>\n",
       "      <th>2</th>\n",
       "      <td>超级好看啊 户口帅的一批 我自己一个人看的 看得热血沸腾啊 爷爷死的时候真的哭死了</td>\n",
       "      <td>10.0</td>\n",
       "      <td>2019-02-11 10:10:00</td>\n",
       "    </tr>\n",
       "    <tr>\n",
       "      <th>3</th>\n",
       "      <td>保护生态环境，从我做</td>\n",
       "      <td>10.0</td>\n",
       "      <td>2019-02-11 10:10:00</td>\n",
       "    </tr>\n",
       "    <tr>\n",
       "      <th>4</th>\n",
       "      <td>超级好看，感动，特效好哒</td>\n",
       "      <td>9.0</td>\n",
       "      <td>2019-02-11 10:10:00</td>\n",
       "    </tr>\n",
       "  </tbody>\n",
       "</table>\n",
       "</div>"
      ],
      "text/plain": [
       "                                             content  score  \\\n",
       "0                                            很好震撼的很啊    9.0   \n",
       "1  国产的科幻巅峰，丝毫不逊色好莱坞科幻大片，影响力就像星球大战一样，是国产科幻的开山之做，希望...   10.0   \n",
       "2          超级好看啊 户口帅的一批 我自己一个人看的 看得热血沸腾啊 爷爷死的时候真的哭死了   10.0   \n",
       "3                                         保护生态环境，从我做   10.0   \n",
       "4                                       超级好看，感动，特效好哒    9.0   \n",
       "\n",
       "                  time  \n",
       "0  2019-02-11 10:10:00  \n",
       "1  2019-02-11 10:10:00  \n",
       "2  2019-02-11 10:10:00  \n",
       "3  2019-02-11 10:10:00  \n",
       "4  2019-02-11 10:10:00  "
      ]
     },
     "execution_count": 69,
     "metadata": {},
     "output_type": "execute_result"
    }
   ],
   "source": [
    "#提取需要的列并去空\n",
    "film_data = film_data[['content','score','time']].dropna()\n",
    "film_data.head()"
   ]
  },
  {
   "cell_type": "markdown",
   "metadata": {
    "slideshow": {
     "slide_type": "slide"
    }
   },
   "source": [
    "<h4>3.3.1对评分数量进行统计</h4>"
   ]
  },
  {
   "cell_type": "code",
   "execution_count": 180,
   "metadata": {
    "slideshow": {
     "slide_type": "subslide"
    }
   },
   "outputs": [
    {
     "data": {
      "text/html": [
       "<div>\n",
       "<style scoped>\n",
       "    .dataframe tbody tr th:only-of-type {\n",
       "        vertical-align: middle;\n",
       "    }\n",
       "\n",
       "    .dataframe tbody tr th {\n",
       "        vertical-align: top;\n",
       "    }\n",
       "\n",
       "    .dataframe thead th {\n",
       "        text-align: right;\n",
       "    }\n",
       "</style>\n",
       "<table border=\"1\" class=\"dataframe\">\n",
       "  <thead>\n",
       "    <tr style=\"text-align: right;\">\n",
       "      <th></th>\n",
       "      <th>score</th>\n",
       "      <th>time</th>\n",
       "    </tr>\n",
       "  </thead>\n",
       "  <tbody>\n",
       "    <tr>\n",
       "      <th>0</th>\n",
       "      <td>0.0</td>\n",
       "      <td>130</td>\n",
       "    </tr>\n",
       "    <tr>\n",
       "      <th>1</th>\n",
       "      <td>1.0</td>\n",
       "      <td>2329</td>\n",
       "    </tr>\n",
       "    <tr>\n",
       "      <th>2</th>\n",
       "      <td>2.0</td>\n",
       "      <td>429</td>\n",
       "    </tr>\n",
       "    <tr>\n",
       "      <th>3</th>\n",
       "      <td>3.0</td>\n",
       "      <td>481</td>\n",
       "    </tr>\n",
       "    <tr>\n",
       "      <th>4</th>\n",
       "      <td>4.0</td>\n",
       "      <td>359</td>\n",
       "    </tr>\n",
       "    <tr>\n",
       "      <th>5</th>\n",
       "      <td>5.0</td>\n",
       "      <td>1549</td>\n",
       "    </tr>\n",
       "    <tr>\n",
       "      <th>6</th>\n",
       "      <td>6.0</td>\n",
       "      <td>1343</td>\n",
       "    </tr>\n",
       "    <tr>\n",
       "      <th>7</th>\n",
       "      <td>7.0</td>\n",
       "      <td>2478</td>\n",
       "    </tr>\n",
       "    <tr>\n",
       "      <th>8</th>\n",
       "      <td>8.0</td>\n",
       "      <td>5810</td>\n",
       "    </tr>\n",
       "    <tr>\n",
       "      <th>9</th>\n",
       "      <td>9.0</td>\n",
       "      <td>14427</td>\n",
       "    </tr>\n",
       "    <tr>\n",
       "      <th>10</th>\n",
       "      <td>10.0</td>\n",
       "      <td>73245</td>\n",
       "    </tr>\n",
       "  </tbody>\n",
       "</table>\n",
       "</div>"
      ],
      "text/plain": [
       "    score   time\n",
       "0     0.0    130\n",
       "1     1.0   2329\n",
       "2     2.0    429\n",
       "3     3.0    481\n",
       "4     4.0    359\n",
       "5     5.0   1549\n",
       "6     6.0   1343\n",
       "7     7.0   2478\n",
       "8     8.0   5810\n",
       "9     9.0  14427\n",
       "10   10.0  73245"
      ]
     },
     "execution_count": 180,
     "metadata": {},
     "output_type": "execute_result"
    }
   ],
   "source": [
    "film_type = film_data.groupby(film_data['score'])['time'].count().reset_index()\n",
    "film_type"
   ]
  },
  {
   "cell_type": "code",
   "execution_count": 71,
   "metadata": {
    "slideshow": {
     "slide_type": "subslide"
    }
   },
   "outputs": [
    {
     "data": {
      "text/html": [
       "<div>\n",
       "<style scoped>\n",
       "    .dataframe tbody tr th:only-of-type {\n",
       "        vertical-align: middle;\n",
       "    }\n",
       "\n",
       "    .dataframe tbody tr th {\n",
       "        vertical-align: top;\n",
       "    }\n",
       "\n",
       "    .dataframe thead th {\n",
       "        text-align: right;\n",
       "    }\n",
       "</style>\n",
       "<table border=\"1\" class=\"dataframe\">\n",
       "  <thead>\n",
       "    <tr style=\"text-align: right;\">\n",
       "      <th></th>\n",
       "      <th>score</th>\n",
       "      <th>小计</th>\n",
       "    </tr>\n",
       "  </thead>\n",
       "  <tbody>\n",
       "    <tr>\n",
       "      <th>0</th>\n",
       "      <td>0.0</td>\n",
       "      <td>130</td>\n",
       "    </tr>\n",
       "    <tr>\n",
       "      <th>1</th>\n",
       "      <td>1.0</td>\n",
       "      <td>2329</td>\n",
       "    </tr>\n",
       "    <tr>\n",
       "      <th>2</th>\n",
       "      <td>2.0</td>\n",
       "      <td>429</td>\n",
       "    </tr>\n",
       "    <tr>\n",
       "      <th>3</th>\n",
       "      <td>3.0</td>\n",
       "      <td>481</td>\n",
       "    </tr>\n",
       "    <tr>\n",
       "      <th>4</th>\n",
       "      <td>4.0</td>\n",
       "      <td>359</td>\n",
       "    </tr>\n",
       "    <tr>\n",
       "      <th>5</th>\n",
       "      <td>5.0</td>\n",
       "      <td>1549</td>\n",
       "    </tr>\n",
       "    <tr>\n",
       "      <th>6</th>\n",
       "      <td>6.0</td>\n",
       "      <td>1343</td>\n",
       "    </tr>\n",
       "    <tr>\n",
       "      <th>7</th>\n",
       "      <td>7.0</td>\n",
       "      <td>2478</td>\n",
       "    </tr>\n",
       "    <tr>\n",
       "      <th>8</th>\n",
       "      <td>8.0</td>\n",
       "      <td>5810</td>\n",
       "    </tr>\n",
       "    <tr>\n",
       "      <th>9</th>\n",
       "      <td>9.0</td>\n",
       "      <td>14427</td>\n",
       "    </tr>\n",
       "    <tr>\n",
       "      <th>10</th>\n",
       "      <td>10.0</td>\n",
       "      <td>73244</td>\n",
       "    </tr>\n",
       "  </tbody>\n",
       "</table>\n",
       "</div>"
      ],
      "text/plain": [
       "    score     小计\n",
       "0     0.0    130\n",
       "1     1.0   2329\n",
       "2     2.0    429\n",
       "3     3.0    481\n",
       "4     4.0    359\n",
       "5     5.0   1549\n",
       "6     6.0   1343\n",
       "7     7.0   2478\n",
       "8     8.0   5810\n",
       "9     9.0  14427\n",
       "10   10.0  73244"
      ]
     },
     "execution_count": 71,
     "metadata": {},
     "output_type": "execute_result"
    }
   ],
   "source": [
    "#将“time”改为“小计”\n",
    "film_type.rename(columns={'time':\"小计\"},inplace=True)\n",
    "film_type"
   ]
  },
  {
   "cell_type": "code",
   "execution_count": 75,
   "metadata": {
    "slideshow": {
     "slide_type": "subslide"
    }
   },
   "outputs": [
    {
     "data": {
      "text/html": [
       "<div>\n",
       "<style scoped>\n",
       "    .dataframe tbody tr th:only-of-type {\n",
       "        vertical-align: middle;\n",
       "    }\n",
       "\n",
       "    .dataframe tbody tr th {\n",
       "        vertical-align: top;\n",
       "    }\n",
       "\n",
       "    .dataframe thead th {\n",
       "        text-align: right;\n",
       "    }\n",
       "</style>\n",
       "<table border=\"1\" class=\"dataframe\">\n",
       "  <thead>\n",
       "    <tr style=\"text-align: right;\">\n",
       "      <th></th>\n",
       "      <th>level_0</th>\n",
       "      <th>score</th>\n",
       "      <th>小计</th>\n",
       "    </tr>\n",
       "  </thead>\n",
       "  <tbody>\n",
       "    <tr>\n",
       "      <th>0</th>\n",
       "      <td>0</td>\n",
       "      <td>0.0</td>\n",
       "      <td>130</td>\n",
       "    </tr>\n",
       "    <tr>\n",
       "      <th>1</th>\n",
       "      <td>1</td>\n",
       "      <td>1.0</td>\n",
       "      <td>2329</td>\n",
       "    </tr>\n",
       "    <tr>\n",
       "      <th>2</th>\n",
       "      <td>2</td>\n",
       "      <td>2.0</td>\n",
       "      <td>429</td>\n",
       "    </tr>\n",
       "    <tr>\n",
       "      <th>3</th>\n",
       "      <td>3</td>\n",
       "      <td>3.0</td>\n",
       "      <td>481</td>\n",
       "    </tr>\n",
       "    <tr>\n",
       "      <th>4</th>\n",
       "      <td>4</td>\n",
       "      <td>4.0</td>\n",
       "      <td>359</td>\n",
       "    </tr>\n",
       "    <tr>\n",
       "      <th>5</th>\n",
       "      <td>5</td>\n",
       "      <td>5.0</td>\n",
       "      <td>1549</td>\n",
       "    </tr>\n",
       "    <tr>\n",
       "      <th>6</th>\n",
       "      <td>6</td>\n",
       "      <td>6.0</td>\n",
       "      <td>1343</td>\n",
       "    </tr>\n",
       "    <tr>\n",
       "      <th>7</th>\n",
       "      <td>7</td>\n",
       "      <td>7.0</td>\n",
       "      <td>2478</td>\n",
       "    </tr>\n",
       "    <tr>\n",
       "      <th>8</th>\n",
       "      <td>8</td>\n",
       "      <td>8.0</td>\n",
       "      <td>5810</td>\n",
       "    </tr>\n",
       "    <tr>\n",
       "      <th>9</th>\n",
       "      <td>9</td>\n",
       "      <td>9.0</td>\n",
       "      <td>14427</td>\n",
       "    </tr>\n",
       "    <tr>\n",
       "      <th>10</th>\n",
       "      <td>10</td>\n",
       "      <td>10.0</td>\n",
       "      <td>73244</td>\n",
       "    </tr>\n",
       "  </tbody>\n",
       "</table>\n",
       "</div>"
      ],
      "text/plain": [
       "    level_0  score     小计\n",
       "0         0    0.0    130\n",
       "1         1    1.0   2329\n",
       "2         2    2.0    429\n",
       "3         3    3.0    481\n",
       "4         4    4.0    359\n",
       "5         5    5.0   1549\n",
       "6         6    6.0   1343\n",
       "7         7    7.0   2478\n",
       "8         8    8.0   5810\n",
       "9         9    9.0  14427\n",
       "10       10   10.0  73244"
      ]
     },
     "execution_count": 75,
     "metadata": {},
     "output_type": "execute_result"
    }
   ],
   "source": [
    "#将统计结果的Series格式转化为DataFrame，并按升序排列\n",
    "film_ = film_type.reset_index().sort_values(by='score',ascending=True)\n",
    "#在不指定任何参数的情况下使用reset_index（），则序列号将成为新索引，而原始索引将保留l为新列。\n",
    "film_type = film_type.reset_index().drop('index',axis=1)\n",
    "film_type"
   ]
  },
  {
   "cell_type": "code",
   "execution_count": 101,
   "metadata": {
    "slideshow": {
     "slide_type": "subslide"
    }
   },
   "outputs": [
    {
     "data": {
      "image/png": "[encoded data removed]",
      "text/plain": [
       "<Figure size 432x432 with 1 Axes>"
      ]
     },
     "metadata": {
      "needs_background": "light"
     },
     "output_type": "display_data"
    }
   ],
   "source": [
    "# 绘图-评分总计\n",
    "fig = plt.figure(figsize=(6,6))\n",
    "ax = fig.add_subplot(111)\n",
    "ax.set_title('评分总计')\n",
    "ax.set_ylabel('数量')\n",
    "ax.set_xticks(film_type['score'])\n",
    "ax.bar(film_type['score'],film_type['小计'])\n",
    "\n",
    "plt.show()"
   ]
  },
  {
   "cell_type": "markdown",
   "metadata": {
    "slideshow": {
     "slide_type": "subslide"
    }
   },
   "source": [
    "<h4>3.3.2对各演职员总体提及次数进行统计</h4>"
   ]
  },
  {
   "cell_type": "code",
   "execution_count": 119,
   "metadata": {
    "slideshow": {
     "slide_type": "subslide"
    }
   },
   "outputs": [],
   "source": [
    "mapping = {'liucixin':'刘慈欣|大刘', 'guofan':'郭帆', 'quchuxiao':'屈楚萧|刘启|户口', 'wujing':'吴京|刘培强', \n",
    "           'liguangjie':'李光洁|王磊', 'wumengda':'吴孟达|达叔|韩子昂', 'zhaojinmai':'赵今麦|韩朵朵'}\n",
    "for key, value in mapping.items():\n",
    "    film_data[key] = film_data['content'].str.contains(value)"
   ]
  },
  {
   "cell_type": "code",
   "execution_count": 120,
   "metadata": {
    "slideshow": {
     "slide_type": "subslide"
    }
   },
   "outputs": [
    {
     "data": {
      "text/plain": [
       "liguangjie     171\n",
       "guofan         272\n",
       "zhaojinmai     377\n",
       "wumengda       477\n",
       "quchuxiao      833\n",
       "liucixin      3122\n",
       "wujing        5351\n",
       "dtype: int64"
      ]
     },
     "execution_count": 120,
     "metadata": {},
     "output_type": "execute_result"
    }
   ],
   "source": [
    "# 总体提及次数\n",
    "staff_count = pd.Series({key: film_data.loc[film_data[key], 'score'].count() for key in mapping.keys()}).sort_values()\n",
    "staff_count"
   ]
  },
  {
   "cell_type": "code",
   "execution_count": 161,
   "metadata": {
    "slideshow": {
     "slide_type": "subslide"
    }
   },
   "outputs": [
    {
     "data": {
      "image/png": "[encoded data removed]",
      "text/plain": [
       "<Figure size 432x432 with 1 Axes>"
      ]
     },
     "metadata": {},
     "output_type": "display_data"
    }
   ],
   "source": [
    "# 绘图-总体提及次数\n",
    "fig = plt.figure(figsize=(6,6))\n",
    "ax = fig.add_subplot(111)\n",
    "x = ('李光洁', '郭帆', '赵今麦', '吴孟达', '屈楚萧', '刘慈欣', '吴京')\n",
    "ax.set_title('总体提及次数')\n",
    "ax.pie(staff_count.values,labels=x,textprops={'fontsize':15,'color':'black'}, autopct=\"%1.2f%%\", shadow=True)\n",
    "\n",
    "plt.show()"
   ]
  },
  {
   "cell_type": "markdown",
   "metadata": {
    "slideshow": {
     "slide_type": "subslide"
    }
   },
   "source": [
    "<h4>3.3.3对各演职员平均分进行统计</h4>"
   ]
  },
  {
   "cell_type": "code",
   "execution_count": 137,
   "metadata": {
    "slideshow": {
     "slide_type": "subslide"
    }
   },
   "outputs": [
    {
     "data": {
      "text/plain": [
       "zhaojinmai    8.636605\n",
       "wumengda      8.779874\n",
       "wujing        9.003738\n",
       "quchuxiao     9.018007\n",
       "liguangjie    9.134503\n",
       "liucixin      9.480782\n",
       "guofan        9.658088\n",
       "dtype: float64"
      ]
     },
     "execution_count": 137,
     "metadata": {},
     "output_type": "execute_result"
    }
   ],
   "source": [
    "#《流浪地球》演职员平均分\n",
    "average_score = pd.Series({key: film_data.loc[film_data[key], 'score'].mean() for key in mapping.keys()}).sort_values()\n",
    "average_score"
   ]
  },
  {
   "cell_type": "code",
   "execution_count": 150,
   "metadata": {
    "slideshow": {
     "slide_type": "subslide"
    }
   },
   "outputs": [
    {
     "data": {
      "image/png": "[encoded data removed]",
      "text/plain": [
       "<Figure size 432x288 with 1 Axes>"
      ]
     },
     "metadata": {
      "needs_background": "light"
     },
     "output_type": "display_data"
    }
   ],
   "source": [
    "# 绘图-流浪地球》演职员平均分\n",
    "y = ('赵今麦', '吴孟达', '吴京', '屈楚萧', '李光洁', '刘慈欣', '郭帆')\n",
    "plt.bar(y, average_score.values)\n",
    "\n",
    " \n",
    "plt.show()"
   ]
  },
  {
   "cell_type": "markdown",
   "metadata": {
    "slideshow": {
     "slide_type": "subslide"
    }
   },
   "source": [
    "<h4>3.3.4对各演职员低分提及百分比进行统计</h4>"
   ]
  },
  {
   "cell_type": "code",
   "execution_count": 139,
   "metadata": {
    "slideshow": {
     "slide_type": "subslide"
    }
   },
   "outputs": [
    {
     "data": {
      "text/plain": [
       "guofan          3\n",
       "liguangjie      4\n",
       "zhaojinmai     14\n",
       "wumengda       29\n",
       "quchuxiao      30\n",
       "liucixin       36\n",
       "wujing        305\n",
       "dtype: int64"
      ]
     },
     "execution_count": 139,
     "metadata": {},
     "output_type": "execute_result"
    }
   ],
   "source": [
    "#各演职员低分评论中被提及次数\n",
    "staff_count_low = pd.Series({key: film_data.loc[film_data[key]&(film_data['score']<5), 'score'].count() for key in mapping.keys()}).sort_values()\n",
    "staff_count_low"
   ]
  },
  {
   "cell_type": "code",
   "execution_count": 152,
   "metadata": {
    "slideshow": {
     "slide_type": "subslide"
    }
   },
   "outputs": [
    {
     "data": {
      "text/plain": [
       "guofan        1.10\n",
       "liucixin      1.15\n",
       "liguangjie    2.34\n",
       "quchuxiao     3.60\n",
       "zhaojinmai    3.71\n",
       "wujing        5.70\n",
       "wumengda      6.08\n",
       "dtype: float64"
      ]
     },
     "execution_count": 152,
     "metadata": {},
     "output_type": "execute_result"
    }
   ],
   "source": [
    "#各演职员低分提及百分比\n",
    "staff_count_pct = np.round(staff_count_low/staff_count*100, 2).sort_values()\n",
    "staff_count_pct"
   ]
  },
  {
   "cell_type": "code",
   "execution_count": 160,
   "metadata": {
    "slideshow": {
     "slide_type": "subslide"
    }
   },
   "outputs": [
    {
     "data": {
      "image/png": "[encoded data removed]",
      "text/plain": [
       "<Figure size 432x432 with 1 Axes>"
      ]
     },
     "metadata": {},
     "output_type": "display_data"
    }
   ],
   "source": [
    "# 绘图-各演员低分提及百分比\n",
    "fig = plt.figure(figsize=(6,6))\n",
    "ax = fig.add_subplot(111)\n",
    "z=('郭帆', '刘慈欣', '李光洁', '屈楚萧', '赵今麦', '吴京', '吴孟达')\n",
    "ax.set_title('各演员低分提及百分比')\n",
    "ax.pie(staff_count_pct.values,labels=z,textprops={'fontsize':15,'color':'black'}, autopct=\"%1.2f%%\", shadow=True)\n",
    "\n",
    "plt.show()"
   ]
  },
  {
   "cell_type": "markdown",
   "metadata": {
    "slideshow": {
     "slide_type": "slide"
    }
   },
   "source": [
    "<h2>4.总体分析</h2>\n",
    "\n",
    "1.评分中明显10分9分占绝大多数，低分很少\n",
    "\n",
    "2.演职员郭帆，刘慈欣平均分较高，赵今麦，吴孟达较低。低分低级百分比吴孟达和吴京最高，\n",
    "所以高分与郭帆刘慈欣有关，低分与吴孟达吴京有关"
   ]
  },
  {
   "cell_type": "code",
   "execution_count": null,
   "metadata": {},
   "outputs": [],
   "source": []
  }
 ],
 "metadata": {
  "celltoolbar": "幻灯片",
  "kernelspec": {
   "display_name": "Python 3",
   "language": "python",
   "name": "python3"
  },
  "language_info": {
   "codemirror_mode": {
    "name": "ipython",
    "version": 3
   },
   "file_extension": ".py",
   "mimetype": "text/x-python",
   "name": "python",
   "nbconvert_exporter": "python",
   "pygments_lexer": "ipython3",
   "version": "3.9.1"
  }
 },
 "nbformat": 4,
 "nbformat_minor": 2
}
